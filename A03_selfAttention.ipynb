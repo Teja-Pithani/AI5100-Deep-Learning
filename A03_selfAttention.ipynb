{
  "metadata": {
    "kernelspec": {
      "language": "python",
      "display_name": "Python 3",
      "name": "python3"
    },
    "language_info": {
      "name": "python",
      "version": "3.10.13",
      "mimetype": "text/x-python",
      "codemirror_mode": {
        "name": "ipython",
        "version": 3
      },
      "pygments_lexer": "ipython3",
      "nbconvert_exporter": "python",
      "file_extension": ".py"
    },
    "colab": {
      "provenance": []
    }
  },
  "nbformat_minor": 0,
  "nbformat": 4,
  "cells": [
    {
      "cell_type": "markdown",
      "source": [
        "# Assignment-03\n",
        "​\n",
        "# BM23MTECH11006\n",
        "​\n",
        "# PITHANI TEJA VENKATA RAMANA KUMAR\n"
      ],
      "metadata": {
        "id": "Bg5PsoAnC7XR"
      }
    },
    {
      "cell_type": "markdown",
      "source": [
        "### Libraries"
      ],
      "metadata": {
        "id": "W6EAmzQBC6RH"
      }
    },
    {
      "cell_type": "code",
      "source": [
        "import torch\n",
        "import torch.nn as nn\n",
        "import torch.nn.functional as F\n",
        "import torchvision\n",
        "from torchvision import transforms\n"
      ],
      "metadata": {
        "execution": {
          "iopub.status.busy": "2024-03-18T18:37:38.057429Z",
          "iopub.execute_input": "2024-03-18T18:37:38.058267Z",
          "iopub.status.idle": "2024-03-18T18:37:45.219836Z",
          "shell.execute_reply.started": "2024-03-18T18:37:38.058220Z",
          "shell.execute_reply": "2024-03-18T18:37:45.219079Z"
        },
        "trusted": true,
        "id": "mQizFP76C6RJ"
      },
      "execution_count": null,
      "outputs": []
    },
    {
      "cell_type": "markdown",
      "source": [
        "### Dataset"
      ],
      "metadata": {
        "id": "CFn_1sWOC6RL"
      }
    },
    {
      "cell_type": "code",
      "source": [
        "# Load CIFAR-10 dataset\n",
        "transform = transforms.Compose([\n",
        "    transforms.ToTensor(),\n",
        "    transforms.Resize(32),\n",
        "    transforms.Normalize((0.5, 0.5, 0.5), (0.5, 0.5, 0.5))\n",
        "])\n",
        "\n",
        "trainset = torchvision.datasets.CIFAR10(root='./data', train=True, download=True, transform=transform)\n",
        "trainloader = torch.utils.data.DataLoader(trainset, batch_size=64, shuffle=True)\n",
        "\n",
        "testset = torchvision.datasets.CIFAR10(root='./data', train=False, download=True, transform=transform)\n",
        "testloader = torch.utils.data.DataLoader(testset, batch_size=64, shuffle=False)\n"
      ],
      "metadata": {
        "execution": {
          "iopub.status.busy": "2024-03-18T18:37:45.221296Z",
          "iopub.execute_input": "2024-03-18T18:37:45.221910Z",
          "iopub.status.idle": "2024-03-18T18:37:50.398778Z",
          "shell.execute_reply.started": "2024-03-18T18:37:45.221884Z",
          "shell.execute_reply": "2024-03-18T18:37:50.397987Z"
        },
        "trusted": true,
        "id": "BMJcThQpC6RL",
        "outputId": "66487831-d89b-4f3b-fe48-8962f8e220fb"
      },
      "execution_count": null,
      "outputs": [
        {
          "name": "stdout",
          "text": "Downloading https://www.cs.toronto.edu/~kriz/cifar-10-python.tar.gz to ./data/cifar-10-python.tar.gz\n",
          "output_type": "stream"
        },
        {
          "name": "stderr",
          "text": "100%|██████████| 170498071/170498071 [00:01<00:00, 100988651.95it/s]\n",
          "output_type": "stream"
        },
        {
          "name": "stdout",
          "text": "Extracting ./data/cifar-10-python.tar.gz to ./data\nFiles already downloaded and verified\n",
          "output_type": "stream"
        }
      ]
    },
    {
      "cell_type": "code",
      "source": [
        "import matplotlib.pyplot as plt\n",
        "plt.imshow(trainset[0][0][1])"
      ],
      "metadata": {
        "execution": {
          "iopub.status.busy": "2024-03-18T18:37:50.399794Z",
          "iopub.execute_input": "2024-03-18T18:37:50.400052Z",
          "iopub.status.idle": "2024-03-18T18:37:50.793570Z",
          "shell.execute_reply.started": "2024-03-18T18:37:50.400030Z",
          "shell.execute_reply": "2024-03-18T18:37:50.792617Z"
        },
        "trusted": true,
        "id": "10bBdLanC6RN",
        "outputId": "e39fb6de-5747-4a75-bcc6-c11fab13cf5a"
      },
      "execution_count": null,
      "outputs": [
        {
          "execution_count": 3,
          "output_type": "execute_result",
          "data": {
            "text/plain": "<matplotlib.image.AxesImage at 0x7cbf133e9db0>"
          },
          "metadata": {}
        },
        {
          "output_type": "display_data",
          "data": {
            "text/plain": "<Figure size 640x480 with 1 Axes>",
            "image/png": "[encoded data removed]"
          },
          "metadata": {}
        }
      ]
    },
    {
      "cell_type": "markdown",
      "source": [
        "#### 1. Self-Attention for Object Recognition with CNNs: Implement a sample CNN with one or more self-attention layer(s) for performing object recognition over CIFAR-10 dataset. You have to implement the self-attention layer yourself and use it in the forward function defined by you. All other layers (fully connected, nonlinearity, conv layer, etc.) can be bulit-in implementations. The network can be a simpler one (e.g., it may have 1x Conv, 4x [Conv followed by SA], 1x Conv, and 1x GAP). Please refer to the reading material provided here or any other similar one. [10 Marks]\n"
      ],
      "metadata": {
        "id": "pDeBa0ovC6RN"
      }
    },
    {
      "cell_type": "code",
      "source": [
        "# Define the Self Attention Layer\n",
        "class SelfAttention(nn.Module):\n",
        "    def __init__(self, in_dim):\n",
        "        super(SelfAttention, self).__init__()\n",
        "        self.query_conv = nn.Conv2d(in_channels=in_dim, out_channels=in_dim//8, kernel_size=1)\n",
        "        self.key_conv = nn.Conv2d(in_channels=in_dim, out_channels=in_dim//8, kernel_size=1)\n",
        "        self.value_conv = nn.Conv2d(in_channels=in_dim, out_channels=in_dim, kernel_size=1)\n",
        "        self.gamma = nn.Parameter(torch.zeros(1))\n",
        "\n",
        "    def forward(self, x):\n",
        "        batch_size, C, width, height = x.size()\n",
        "        proj_query = self.query_conv(x).view(batch_size, -1, width*height).permute(0, 2, 1)  # B x (N) x C\n",
        "        proj_key = self.key_conv(x).view(batch_size, -1, width*height)  # B x C x (N)\n",
        "        energy = torch.bmm(proj_query, proj_key)  # batch matrix multiplication\n",
        "        attention = F.softmax(energy, dim=-1)  # normalize across keys\n",
        "        proj_value = self.value_conv(x).view(batch_size, -1, width*height)  # B x C x N\n",
        "\n",
        "        out = torch.bmm(proj_value, attention.permute(0, 2, 1))\n",
        "        out = out.view(batch_size, C, width, height)\n",
        "        out = self.gamma * out + x\n",
        "        return out\n",
        "\n",
        "# Define the CNN model with Self Attention\n",
        "class SelfAttentionCNN(nn.Module):\n",
        "    def __init__(self):\n",
        "        super(SelfAttentionCNN, self).__init__()\n",
        "        self.conv1 = nn.Conv2d(3, 16, 3, padding=1)\n",
        "        self.conv2 = nn.Conv2d(16, 32, 3, padding=1)\n",
        "        self.sa1 = SelfAttention(32)\n",
        "        self.conv3 = nn.Conv2d(32, 64, 3, padding=1)\n",
        "        self.sa2 = SelfAttention(64)\n",
        "        self.conv4 = nn.Conv2d(64, 128, 3, padding=1)\n",
        "        self.sa3 = SelfAttention(128)\n",
        "        self.conv5 = nn.Conv2d(128, 64, 3, padding=1)\n",
        "        self.conv6 = nn.Conv2d(64, 10, 3, padding=1)\n",
        "        self.pool = nn.AdaptiveAvgPool2d(1)\n",
        "\n",
        "    def forward(self, x):\n",
        "        x = F.relu(self.conv1(x))\n",
        "        x = F.relu(self.conv2(x))\n",
        "        x = self.sa1(x)\n",
        "        x = F.max_pool2d(x, 2, 2)\n",
        "        x = F.relu(self.conv3(x))\n",
        "        x = self.sa2(x)\n",
        "        x = F.max_pool2d(x, 2, 2)\n",
        "        x = F.relu(self.conv4(x))\n",
        "        x = self.sa3(x)\n",
        "        x = F.max_pool2d(x, 2, 2)\n",
        "        x = F.relu(self.conv5(x))\n",
        "        x = F.relu(self.conv6(x))\n",
        "        x = self.pool(x)\n",
        "        x = x.view(-1, 10)\n",
        "        return F.log_softmax(x, dim=-1)\n",
        "\n"
      ],
      "metadata": {
        "execution": {
          "iopub.status.busy": "2024-03-18T18:38:07.785470Z",
          "iopub.execute_input": "2024-03-18T18:38:07.785825Z",
          "iopub.status.idle": "2024-03-18T18:38:07.802163Z",
          "shell.execute_reply.started": "2024-03-18T18:38:07.785796Z",
          "shell.execute_reply": "2024-03-18T18:38:07.801140Z"
        },
        "trusted": true,
        "id": "omFabHDFC6RO"
      },
      "execution_count": null,
      "outputs": []
    },
    {
      "cell_type": "code",
      "source": [
        "# Instantiate the model\n",
        "net = SelfAttentionCNN()\n",
        "\n",
        "# Define loss function and optimizer\n",
        "criterion = nn.CrossEntropyLoss()\n",
        "optimizer = torch.optim.Adam(net.parameters(), lr=0.001)\n",
        "\n",
        "# Check if GPU is available\n",
        "device = torch.device(\"cuda\" if torch.cuda.is_available() else \"cpu\")\n",
        "\n",
        "# Move the model to the GPU\n",
        "net.to(device)\n",
        "\n",
        "# Move the data to the GPU inside the training loop\n",
        "for epoch in range(10):  # loop over the dataset multiple times\n",
        "    running_loss = 0.0\n",
        "    for i, data in enumerate(trainloader, 0):\n",
        "        inputs, labels = data[0].to(device), data[1].to(device)  # Move input data to GPU\n",
        "        optimizer.zero_grad()\n",
        "        outputs = net(inputs)\n",
        "        loss = criterion(outputs, labels)\n",
        "        loss.backward()\n",
        "        optimizer.step()\n",
        "        running_loss += loss.item()\n",
        "        if i % 200 == 199:    # print every 100 mini-batches\n",
        "            print('[%d, %5d] loss: %.3f' %\n",
        "                  (epoch + 1, i + 1, running_loss / 200))\n",
        "            running_loss = 0.0\n",
        "\n",
        "print('Finished Training')\n"
      ],
      "metadata": {
        "execution": {
          "iopub.status.busy": "2024-03-18T18:38:49.121209Z",
          "iopub.execute_input": "2024-03-18T18:38:49.121902Z",
          "iopub.status.idle": "2024-03-18T18:45:04.944177Z",
          "shell.execute_reply.started": "2024-03-18T18:38:49.121873Z",
          "shell.execute_reply": "2024-03-18T18:45:04.943232Z"
        },
        "trusted": true,
        "id": "XgUBjxpwC6RO",
        "outputId": "f6fb3603-a128-478e-a813-faec3bfae21e"
      },
      "execution_count": null,
      "outputs": [
        {
          "name": "stdout",
          "text": "[1,   200] loss: 2.186\n[1,   400] loss: 1.911\n[1,   600] loss: 1.750\n[2,   200] loss: 1.530\n[2,   400] loss: 1.462\n[2,   600] loss: 1.412\n[3,   200] loss: 1.280\n[3,   400] loss: 1.145\n[3,   600] loss: 1.047\n[4,   200] loss: 0.933\n[4,   400] loss: 0.911\n[4,   600] loss: 0.881\n[5,   200] loss: 0.790\n[5,   400] loss: 0.800\n[5,   600] loss: 0.801\n[6,   200] loss: 0.708\n[6,   400] loss: 0.713\n[6,   600] loss: 0.720\n[7,   200] loss: 0.648\n[7,   400] loss: 0.645\n[7,   600] loss: 0.657\n[8,   200] loss: 0.575\n[8,   400] loss: 0.585\n[8,   600] loss: 0.609\n[9,   200] loss: 0.519\n[9,   400] loss: 0.543\n[9,   600] loss: 0.537\n[10,   200] loss: 0.475\n[10,   400] loss: 0.493\n[10,   600] loss: 0.513\nFinished Training\n",
          "output_type": "stream"
        }
      ]
    },
    {
      "cell_type": "code",
      "source": [
        "def evaluate_accuracy(model, dataloader):\n",
        "    correct = 0\n",
        "    total = 0\n",
        "    device = next(model.parameters()).device  # Get the device where the model is located\n",
        "    with torch.no_grad():\n",
        "        for data in dataloader:\n",
        "            images, labels = data[0].to(device), data[1].to(device)  # Move input data to GPU\n",
        "            outputs = model(images)\n",
        "            _, predicted = torch.max(outputs.data, 1)\n",
        "            total += labels.size(0)\n",
        "            correct += (predicted == labels).sum().item()\n",
        "\n",
        "    accuracy = correct / total\n",
        "    return accuracy\n",
        "\n"
      ],
      "metadata": {
        "execution": {
          "iopub.status.busy": "2024-03-18T18:45:13.224250Z",
          "iopub.execute_input": "2024-03-18T18:45:13.225084Z",
          "iopub.status.idle": "2024-03-18T18:45:13.231189Z",
          "shell.execute_reply.started": "2024-03-18T18:45:13.225049Z",
          "shell.execute_reply": "2024-03-18T18:45:13.230252Z"
        },
        "trusted": true,
        "id": "t3a_nA5BC6RP"
      },
      "execution_count": null,
      "outputs": []
    },
    {
      "cell_type": "code",
      "source": [
        "# Usage example:\n",
        "# Assuming you have already defined your model and dataloader\n",
        "test_accuracy = evaluate_accuracy(net, testloader)\n",
        "print(f'Test Accuracy: {test_accuracy:.2%}')\n"
      ],
      "metadata": {
        "execution": {
          "iopub.status.busy": "2024-03-18T18:45:17.117628Z",
          "iopub.execute_input": "2024-03-18T18:45:17.118560Z",
          "iopub.status.idle": "2024-03-18T18:45:21.359944Z",
          "shell.execute_reply.started": "2024-03-18T18:45:17.118521Z",
          "shell.execute_reply": "2024-03-18T18:45:21.359021Z"
        },
        "trusted": true,
        "id": "AEyWMXYMC6RQ",
        "outputId": "509c719c-0215-4f06-ae94-695332dba850"
      },
      "execution_count": null,
      "outputs": [
        {
          "name": "stdout",
          "text": "Test Accuracy: 74.10%\n",
          "output_type": "stream"
        }
      ]
    },
    {
      "cell_type": "markdown",
      "source": [
        "#### 2. Object Recognition with Vision Transformer: Implement and train an Encoder only Trans\u0002former (ViT-like) for the above object recognition task. In other words, implement multi-headed self-attention for the image classification (i.e., appending a < class > token to the image patches that are accepted as input tokens). Compare the performance of the two implementations (try to keep the number of parameters to be comparable and use the same amount of training and testing data). [10 Marks]"
      ],
      "metadata": {
        "id": "69qIlI10C6RQ"
      }
    },
    {
      "cell_type": "code",
      "source": [
        "class VisionTransformer(nn.Module):\n",
        "    def __init__(self, image_size, patch_size, num_classes, embed_dim, num_heads, num_layers):\n",
        "        super(VisionTransformer, self).__init__()\n",
        "        assert image_size % patch_size == 0, \"image size must be divisible by patch size\"\n",
        "        num_patches = (image_size // patch_size) ** 2\n",
        "        self.patch_embedding = nn.Conv2d(3, embed_dim, kernel_size=patch_size, stride=patch_size)\n",
        "        self.class_embedding = nn.Parameter(torch.randn(1, 1, embed_dim))\n",
        "        self.positional_encoding = nn.Parameter(torch.randn(1, num_patches + 1, embed_dim))\n",
        "        self.transformer_encoder_layers = nn.ModuleList([\n",
        "            TransformerEncoderLayer(embed_dim, num_heads) for _ in range(num_layers)\n",
        "        ])\n",
        "        self.fc = nn.Linear(embed_dim, num_classes)\n",
        "\n",
        "    def forward(self, x):\n",
        "        B = x.size(0)\n",
        "        x = self.patch_embedding(x)  # B x C x H' x W'\n",
        "        x = x.flatten(2).transpose(1, 2)  # B x (H' * W') x C\n",
        "        x = torch.cat([self.class_embedding.expand(B, -1, -1), x], dim=1)  # B x (H' * W' + 1) x C\n",
        "        x = x + self.positional_encoding  # B x (H' * W' + 1) x C\n",
        "        for layer in self.transformer_encoder_layers:\n",
        "            x = layer(x)\n",
        "        x = x.mean(dim=1)  # Global average pooling\n",
        "        x = self.fc(x)\n",
        "        return F.log_softmax(x, dim=-1)\n",
        "\n",
        "class TransformerEncoderLayer(nn.Module):\n",
        "    def __init__(self, embed_dim, num_heads, dropout=0.1):\n",
        "        super(TransformerEncoderLayer, self).__init__()\n",
        "        self.self_attn = nn.MultiheadAttention(embed_dim, num_heads, dropout=dropout)\n",
        "        self.linear1 = nn.Linear(embed_dim, embed_dim * 4)\n",
        "        self.dropout = nn.Dropout(dropout)\n",
        "        self.linear2 = nn.Linear(embed_dim * 4, embed_dim)\n",
        "        self.norm1 = nn.LayerNorm(embed_dim)\n",
        "        self.norm2 = nn.LayerNorm(embed_dim)\n",
        "\n",
        "    def forward(self, x):\n",
        "        residual = x\n",
        "        x = self.norm1(x)\n",
        "        x, _ = self.self_attn(x, x, x)\n",
        "        x = residual + self.dropout(x)\n",
        "        residual = x\n",
        "        x = self.norm2(x)\n",
        "        x = F.relu(self.linear1(x))\n",
        "        x = self.dropout(x)\n",
        "        x = self.linear2(x)\n",
        "        x = residual + self.dropout(x)\n",
        "        return x\n"
      ],
      "metadata": {
        "execution": {
          "iopub.status.busy": "2024-03-18T18:45:52.861180Z",
          "iopub.execute_input": "2024-03-18T18:45:52.861804Z",
          "iopub.status.idle": "2024-03-18T18:45:52.876636Z",
          "shell.execute_reply.started": "2024-03-18T18:45:52.861773Z",
          "shell.execute_reply": "2024-03-18T18:45:52.875621Z"
        },
        "trusted": true,
        "id": "7p5UWjkGC6RR"
      },
      "execution_count": null,
      "outputs": []
    },
    {
      "cell_type": "code",
      "source": [
        "# Instantiate the Vision Transformer model\n",
        "vit_model = VisionTransformer(image_size=32, patch_size=4, num_classes=10, embed_dim=64, num_heads=4, num_layers=4)\n",
        "\n",
        "# Define loss function and optimizer\n",
        "criterion = nn.CrossEntropyLoss()\n",
        "optimizer = torch.optim.Adam(vit_model.parameters(), lr=0.001)\n",
        "\n",
        "# Training loop\n",
        "device = torch.device(\"cuda\" if torch.cuda.is_available() else \"cpu\")\n",
        "vit_model.to(device)\n",
        "\n",
        "num_epochs = 10\n",
        "for epoch in range(num_epochs):\n",
        "    vit_model.train()\n",
        "    running_loss = 0.0\n",
        "    for i, data in enumerate(trainloader, 0):\n",
        "        inputs, labels = data[0].to(device), data[1].to(device)\n",
        "        optimizer.zero_grad()\n",
        "        outputs = vit_model(inputs)\n",
        "        loss = criterion(outputs, labels)\n",
        "        loss.backward()\n",
        "        optimizer.step()\n",
        "        running_loss += loss.item()\n",
        "        if i % 100 == 99:  # Print every 100 mini-batches\n",
        "            print(f\"Epoch [{epoch + 1}/{num_epochs}], Step [{i + 1}/{len(trainloader)}], Loss: {running_loss / 100:.4f}\")\n",
        "            running_loss = 0.0\n",
        "\n"
      ],
      "metadata": {
        "execution": {
          "iopub.status.busy": "2024-03-18T18:46:10.087811Z",
          "iopub.execute_input": "2024-03-18T18:46:10.088199Z",
          "iopub.status.idle": "2024-03-18T18:49:53.048483Z",
          "shell.execute_reply.started": "2024-03-18T18:46:10.088171Z",
          "shell.execute_reply": "2024-03-18T18:49:53.047513Z"
        },
        "trusted": true,
        "id": "MCG2HhzFC6RS",
        "outputId": "58d59fd2-aea2-4b1e-cddc-6b6d091c0dae"
      },
      "execution_count": null,
      "outputs": [
        {
          "name": "stdout",
          "text": "Epoch [1/10], Step [100/782], Loss: 2.1624\nEpoch [1/10], Step [200/782], Loss: 1.9749\nEpoch [1/10], Step [300/782], Loss: 1.8804\nEpoch [1/10], Step [400/782], Loss: 1.7990\nEpoch [1/10], Step [500/782], Loss: 1.7369\nEpoch [1/10], Step [600/782], Loss: 1.6977\nEpoch [1/10], Step [700/782], Loss: 1.6706\nEpoch [2/10], Step [100/782], Loss: 1.5867\nEpoch [2/10], Step [200/782], Loss: 1.5729\nEpoch [2/10], Step [300/782], Loss: 1.5468\nEpoch [2/10], Step [400/782], Loss: 1.5129\nEpoch [2/10], Step [500/782], Loss: 1.4996\nEpoch [2/10], Step [600/782], Loss: 1.4965\nEpoch [2/10], Step [700/782], Loss: 1.4751\nEpoch [3/10], Step [100/782], Loss: 1.4568\nEpoch [3/10], Step [200/782], Loss: 1.4123\nEpoch [3/10], Step [300/782], Loss: 1.4427\nEpoch [3/10], Step [400/782], Loss: 1.4129\nEpoch [3/10], Step [500/782], Loss: 1.4189\nEpoch [3/10], Step [600/782], Loss: 1.3823\nEpoch [3/10], Step [700/782], Loss: 1.3453\nEpoch [4/10], Step [100/782], Loss: 1.3437\nEpoch [4/10], Step [200/782], Loss: 1.3500\nEpoch [4/10], Step [300/782], Loss: 1.3532\nEpoch [4/10], Step [400/782], Loss: 1.3375\nEpoch [4/10], Step [500/782], Loss: 1.3395\nEpoch [4/10], Step [600/782], Loss: 1.3192\nEpoch [4/10], Step [700/782], Loss: 1.2995\nEpoch [5/10], Step [100/782], Loss: 1.2987\nEpoch [5/10], Step [200/782], Loss: 1.2848\nEpoch [5/10], Step [300/782], Loss: 1.2988\nEpoch [5/10], Step [400/782], Loss: 1.2716\nEpoch [5/10], Step [500/782], Loss: 1.2825\nEpoch [5/10], Step [600/782], Loss: 1.2568\nEpoch [5/10], Step [700/782], Loss: 1.2727\nEpoch [6/10], Step [100/782], Loss: 1.2440\nEpoch [6/10], Step [200/782], Loss: 1.2370\nEpoch [6/10], Step [300/782], Loss: 1.2299\nEpoch [6/10], Step [400/782], Loss: 1.2335\nEpoch [6/10], Step [500/782], Loss: 1.2262\nEpoch [6/10], Step [600/782], Loss: 1.2517\nEpoch [6/10], Step [700/782], Loss: 1.2060\nEpoch [7/10], Step [100/782], Loss: 1.1768\nEpoch [7/10], Step [200/782], Loss: 1.2209\nEpoch [7/10], Step [300/782], Loss: 1.2092\nEpoch [7/10], Step [400/782], Loss: 1.1886\nEpoch [7/10], Step [500/782], Loss: 1.1973\nEpoch [7/10], Step [600/782], Loss: 1.1778\nEpoch [7/10], Step [700/782], Loss: 1.1990\nEpoch [8/10], Step [100/782], Loss: 1.1728\nEpoch [8/10], Step [200/782], Loss: 1.1929\nEpoch [8/10], Step [300/782], Loss: 1.1472\nEpoch [8/10], Step [400/782], Loss: 1.1785\nEpoch [8/10], Step [500/782], Loss: 1.1442\nEpoch [8/10], Step [600/782], Loss: 1.1614\nEpoch [8/10], Step [700/782], Loss: 1.1399\nEpoch [9/10], Step [100/782], Loss: 1.1368\nEpoch [9/10], Step [200/782], Loss: 1.1465\nEpoch [9/10], Step [300/782], Loss: 1.1194\nEpoch [9/10], Step [400/782], Loss: 1.1307\nEpoch [9/10], Step [500/782], Loss: 1.1263\nEpoch [9/10], Step [600/782], Loss: 1.1298\nEpoch [9/10], Step [700/782], Loss: 1.1211\nEpoch [10/10], Step [100/782], Loss: 1.0901\nEpoch [10/10], Step [200/782], Loss: 1.1011\nEpoch [10/10], Step [300/782], Loss: 1.1180\nEpoch [10/10], Step [400/782], Loss: 1.1015\nEpoch [10/10], Step [500/782], Loss: 1.1005\nEpoch [10/10], Step [600/782], Loss: 1.0956\nEpoch [10/10], Step [700/782], Loss: 1.0874\n",
          "output_type": "stream"
        }
      ]
    },
    {
      "cell_type": "code",
      "source": [
        "# Evaluation\n",
        "vit_model.eval()\n",
        "correct = 0\n",
        "total = 0\n",
        "with torch.no_grad():\n",
        "    for data in testloader:\n",
        "        images, labels = data[0].to(device), data[1].to(device)\n",
        "        outputs = vit_model(images)\n",
        "        _, predicted = torch.max(outputs.data, 1)\n",
        "        total += labels.size(0)\n",
        "        correct += (predicted == labels).sum().item()\n",
        "\n",
        "accuracy = correct / total\n",
        "print(f'Accuracy of the Vision Transformer model on the 10000 test images: {accuracy:.2%}')\n"
      ],
      "metadata": {
        "execution": {
          "iopub.status.busy": "2024-03-18T18:49:53.050009Z",
          "iopub.execute_input": "2024-03-18T18:49:53.050296Z",
          "iopub.status.idle": "2024-03-18T18:49:56.352723Z",
          "shell.execute_reply.started": "2024-03-18T18:49:53.050273Z",
          "shell.execute_reply": "2024-03-18T18:49:56.351608Z"
        },
        "trusted": true,
        "id": "8JCVo1lGC6RS",
        "outputId": "53d08128-afeb-49f3-b99e-2a498f4aa788"
      },
      "execution_count": null,
      "outputs": [
        {
          "name": "stdout",
          "text": "Accuracy of the Vision Transformer model on the 10000 test images: 60.44%\n",
          "output_type": "stream"
        }
      ]
    },
    {
      "cell_type": "code",
      "source": [],
      "metadata": {
        "id": "_TUWq_H7C6RT"
      },
      "execution_count": null,
      "outputs": []
    }
  ]
}